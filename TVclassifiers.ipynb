{
 "cells": [
  {
   "cell_type": "markdown",
   "id": "3186512d",
   "metadata": {},
   "source": [
    "# Load Packages"
   ]
  },
  {
   "cell_type": "code",
   "execution_count": 1,
   "id": "c182fbea",
   "metadata": {},
   "outputs": [],
   "source": [
    "import os\n",
    "import glob\n",
    "import numpy as np\n",
    "import librosa, librosa.display\n",
    "import pandas as pd\n",
    "import sklearn\n",
    "from pathlib import Path\n",
    "from sklearn import preprocessing\n",
    "import csv\n",
    "from sklearn.ensemble import RandomForestClassifier\n",
    "from sklearn.metrics import confusion_matrix, classification_report\n",
    "from sklearn.preprocessing import StandardScaler, LabelEncoder\n",
    "from sklearn.model_selection import train_test_split"
   ]
  },
  {
   "cell_type": "markdown",
   "id": "f99d613e",
   "metadata": {},
   "source": [
    "# Load Data (CSV)"
   ]
  },
  {
   "cell_type": "code",
   "execution_count": 2,
   "id": "e65e29d9",
   "metadata": {},
   "outputs": [],
   "source": [
    "#measCsv=r'C:\\python\\gits\\taylorsversion\\CSVs'\n",
    "cwd = Path.cwd()\n",
    "measCsv=str(cwd)+'\\\\CSVs'\n",
    "folds=glob.glob(str(measCsv+'\\\\*'))"
   ]
  },
  {
   "cell_type": "markdown",
   "id": "29df87dd",
   "metadata": {},
   "source": [
    "# Prepare Data"
   ]
  },
  {
   "cell_type": "code",
   "execution_count": null,
   "id": "25f501af",
   "metadata": {},
   "outputs": [],
   "source": [
    "nfeatures = {0: 6,\n",
    "             1: 7,\n",
    "             2: 8,\n",
    "             3: 9,\n",
    "             4: 10,\n",
    "             5: 11,\n",
    "             6:12,\n",
    "             7:13,\n",
    "             8:14,\n",
    "             9:15,\n",
    "             10:16,\n",
    "             11:17,\n",
    "             12:18,\n",
    "             13:19,\n",
    "             14:20,\n",
    "             15:6,\n",
    "             16:7,\n",
    "             17:8,\n",
    "             18:9,\n",
    "             19:10,\n",
    "             20: 11,\n",
    "             21: 12,\n",
    "             22: 13,\n",
    "             23: 14,\n",
    "             24: 15,\n",
    "             25: 16,\n",
    "             26:17,\n",
    "             27:18,\n",
    "             28:19,\n",
    "             29:20}\n",
    "STD=[False,False,False,False,False,False,False,False,False,False,False,False,False,False,False,True,True,True,True,True,True,True,True,True,True,True,True,True,True,True,True,True,True,True,True\n",
    "    ] "
   ]
  },
  {
   "cell_type": "code",
   "execution_count": 12,
   "id": "9205cb8e",
   "metadata": {},
   "outputs": [],
   "source": [
    "features = {1: 'PhaseSpace',\n",
    "            2: 'ChannelCorrelation',\n",
    "            3: 'PeakMeter',\n",
    "            4: 'RMS',\n",
    "            5: 'CrestFactor',\n",
    "            6: 'PhaseSpaceLow',\n",
    "            7: 'ChannelCorrelationLow',\n",
    "            8: 'PeakMeterLow',\n",
    "            9: 'RMSLow',\n",
    "            10 : 'CrestFactorLow',\n",
    "           11 : 'PhaseSpaceMid',\n",
    "           12 : 'ChannelCorrelationMid',\n",
    "           13 : 'PeakMeterMid',\n",
    "            14 : 'RMSMid',\n",
    "           15 : 'CrestFactorMid',\n",
    "           16 : 'PhaseSpaceHigh',\n",
    "           17 : 'ChannelCorrelationHigh',\n",
    "            18 : 'PeakMeterHigh',\n",
    "            19 : 'RMSHigh',\n",
    "           20 : 'CrestFactorHigh'\n",
    "           }\n",
    "nfeatures = {0: 1,\n",
    "             1: 3,\n",
    "             2: 4,\n",
    "             3: 5,\n",
    "             4: 6,\n",
    "             5: 8,\n",
    "             6:9,\n",
    "             7:10,\n",
    "             8:12,\n",
    "             9:15,\n",
    "             10:17,\n",
    "             11:20,\n",
    "             12:1,\n",
    "             13:3,\n",
    "             14:4,\n",
    "             15:5,\n",
    "             16:6,\n",
    "             17:8,\n",
    "             18:9,\n",
    "             19:10,\n",
    "             20: 12,\n",
    "             21: 15,\n",
    "             22: 17,\n",
    "             23: 20}\n",
    "STD=[False,False,False,False,False,False,False,False,False,False,False,False,True,True,True,True,True,True,True,True,True,True,True,True,True,True,True,True,True,True,True\n",
    "    ] \n",
    "numfeatures = len(nfeatures)"
   ]
  },
  {
   "cell_type": "code",
   "execution_count": 13,
   "id": "c9407d99",
   "metadata": {},
   "outputs": [],
   "source": [
    "train_X = np.array([np.zeros(numfeatures)])\n",
    "target = []\n",
    "color_map = {}\n",
    "classname = []\n",
    "\n",
    "for cl, fold in enumerate(folds):\n",
    "    files = glob.glob(str(fold+'\\*.csv'))\n",
    "    numfiles = len(files)\n",
    "    lal1 = np.empty((numfiles, numfeatures))\n",
    "    for j, f in enumerate(files):\n",
    "        la = pd.read_csv(f, index_col=0)\n",
    "        # print(f)\n",
    "        classname.append(cl)\n",
    "        for dt, i in enumerate(nfeatures):\n",
    "            if STD[dt]:\n",
    "                # calculate standard deviation of feature over time\n",
    "                lal1[j][i-1] = la[features[nfeatures[i]]].std()\n",
    "            else:\n",
    "                # calculate mean of features over time\n",
    "                lal1[j][i-1] = la[features[nfeatures[i]]].median()#!?!median()\n",
    "\n",
    "    train_X = np.concatenate((train_X, lal1))\n",
    "    target = target + [(str(Path(fold).relative_to(measCsv)), i+1)\n",
    "                       for i in range(0, len(lal1))]\n",
    "\n",
    "    color_map[str(Path(fold).relative_to(measCsv))] = cl\n",
    "\n",
    "train_X = train_X[1:]"
   ]
  },
  {
   "cell_type": "code",
   "execution_count": 14,
   "id": "2e8ec39b",
   "metadata": {},
   "outputs": [],
   "source": [
    "scaler = preprocessing.StandardScaler().fit(train_X) #skalieren die einzelen features auf Mean=0 und Std=1\n",
    "lal = scaler.transform(train_X)"
   ]
  },
  {
   "cell_type": "code",
   "execution_count": 46,
   "id": "d2d4084e",
   "metadata": {},
   "outputs": [],
   "source": [
    "y=classname#each row includes the class number\n",
    "X=train_X# each row includes all attribute magnitudes of a single item\n",
    "X_train, X_test, y_train, y_test = train_test_split(X, y, test_size=0.20, random_state=10)"
   ]
  },
  {
   "cell_type": "markdown",
   "id": "39728f11",
   "metadata": {},
   "source": [
    "## Random Forest Classifier"
   ]
  },
  {
   "cell_type": "code",
   "execution_count": 47,
   "id": "8bbc82e1",
   "metadata": {},
   "outputs": [
    {
     "name": "stdout",
     "output_type": "stream",
     "text": [
      "Train Accuracy: 1.000\n",
      "Test Accuracy: 0.500\n"
     ]
    }
   ],
   "source": [
    "rf = RandomForestClassifier()#load an instance of the RF classifier\n",
    "rf.fit(X_train, y_train)\n",
    "print(f'Train Accuracy: {rf.score(X_train, y_train):.3f}')\n",
    "print(f'Test Accuracy: {rf.score(X_test, y_test):.3f}')"
   ]
  },
  {
   "cell_type": "code",
   "execution_count": 35,
   "id": "f2f437d4",
   "metadata": {},
   "outputs": [
    {
     "name": "stdout",
     "output_type": "stream",
     "text": [
      "              precision    recall  f1-score   support\n",
      "\n",
      "           0       0.67      0.62      0.65        16\n",
      "           1       0.54      0.58      0.56        12\n",
      "\n",
      "    accuracy                           0.61        28\n",
      "   macro avg       0.60      0.60      0.60        28\n",
      "weighted avg       0.61      0.61      0.61        28\n",
      "\n",
      "Train Accuracy: 1.000\n",
      "Test Accuracy: 0.607\n"
     ]
    },
    {
     "data": {
      "image/png": "[encoded data removed]",
      "text/plain": [
       "<Figure size 640x480 with 2 Axes>"
      ]
     },
     "metadata": {},
     "output_type": "display_data"
    }
   ],
   "source": [
    "from sklearn.metrics import confusion_matrix, ConfusionMatrixDisplay\n",
    "rf_predict = rf.predict(X_test)\n",
    "cmrf = confusion_matrix(y_test, rf_predict)\n",
    "cmdrf = ConfusionMatrixDisplay(cmrf, display_labels=[\"Original\", \"Taylor's Version\"])\n",
    "cmdrf.plot()\n",
    "print(classification_report(y_test, rf_predict))\n",
    "print(f'Train Accuracy: {rf.score(X_train, y_train):.3f}')\n",
    "print(f'Test Accuracy: {rf.score(X_test, y_test):.3f}')"
   ]
  },
  {
   "cell_type": "markdown",
   "id": "5a279415",
   "metadata": {},
   "source": [
    "# Naive Bayes Classifier"
   ]
  },
  {
   "cell_type": "code",
   "execution_count": 48,
   "id": "e280c730",
   "metadata": {},
   "outputs": [
    {
     "name": "stdout",
     "output_type": "stream",
     "text": [
      "Train Accuracy: 0.782\n",
      "Test Accuracy: 0.500\n",
      "              precision    recall  f1-score   support\n",
      "\n",
      "           0       0.53      0.60      0.56        15\n",
      "           1       0.45      0.38      0.42        13\n",
      "\n",
      "    accuracy                           0.50        28\n",
      "   macro avg       0.49      0.49      0.49        28\n",
      "weighted avg       0.49      0.50      0.49        28\n",
      "\n",
      "[[9 6]\n",
      " [8 5]]\n"
     ]
    },
    {
     "data": {
      "text/plain": [
       "<sklearn.metrics._plot.confusion_matrix.ConfusionMatrixDisplay at 0x23a4324cfa0>"
      ]
     },
     "execution_count": 48,
     "metadata": {},
     "output_type": "execute_result"
    },
    {
     "data": {
      "image/png": "[encoded data removed]",
      "text/plain": [
       "<Figure size 640x480 with 2 Axes>"
      ]
     },
     "metadata": {},
     "output_type": "display_data"
    }
   ],
   "source": [
    "from sklearn.naive_bayes import GaussianNB\n",
    "from sklearn.metrics import (\n",
    "    accuracy_score,\n",
    "    confusion_matrix,\n",
    "    ConfusionMatrixDisplay,\n",
    "    f1_score,\n",
    ")\n",
    "\n",
    "# Build a Gaussian Classifier\n",
    "model = GaussianNB()\n",
    "\n",
    "# Model training\n",
    "model.fit(X_train, y_train)\n",
    "\n",
    "# Predict Output\n",
    "predicted = model.predict(X_test)\n",
    "\n",
    "y_pred = model.predict(X_test)\n",
    "\n",
    "print(f'Train Accuracy: {model.score(X_train, y_train):.3f}')\n",
    "print(f'Test Accuracy: {model.score(X_test, y_test):.3f}')\n",
    "\n",
    "\n",
    "print(classification_report(y_test, y_pred))\n",
    "print(confusion_matrix(y_test, y_pred))\n",
    "\n",
    "cmmlp = confusion_matrix(y_test, y_pred)\n",
    "cmdmlp = ConfusionMatrixDisplay(cmmlp, display_labels=[\"Original\",\"Taylor's Version\"])\n",
    "cmdmlp.plot()"
   ]
  },
  {
   "cell_type": "code",
   "execution_count": null,
   "id": "88bbb40a",
   "metadata": {},
   "outputs": [],
   "source": []
  }
 ],
 "metadata": {
  "kernelspec": {
   "display_name": "Python 3 (ipykernel)",
   "language": "python",
   "name": "python3"
  },
  "language_info": {
   "codemirror_mode": {
    "name": "ipython",
    "version": 3
   },
   "file_extension": ".py",
   "mimetype": "text/x-python",
   "name": "python",
   "nbconvert_exporter": "python",
   "pygments_lexer": "ipython3",
   "version": "3.10.7"
  }
 },
 "nbformat": 4,
 "nbformat_minor": 5
}
